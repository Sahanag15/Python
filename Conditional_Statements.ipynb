{
  "nbformat": 4,
  "nbformat_minor": 0,
  "metadata": {
    "colab": {
      "provenance": [],
      "authorship_tag": "ABX9TyMwDsAsisXHCc1nKl+6GrLT",
      "include_colab_link": true
    },
    "kernelspec": {
      "name": "python3",
      "display_name": "Python 3"
    },
    "language_info": {
      "name": "python"
    }
  },
  "cells": [
    {
      "cell_type": "markdown",
      "metadata": {
        "id": "view-in-github",
        "colab_type": "text"
      },
      "source": [
        "<a href=\"https://colab.research.google.com/github/Sahanag15/Python/blob/main/Conditional_Statements.ipynb\" target=\"_parent\"><img src=\"https://colab.research.google.com/assets/colab-badge.svg\" alt=\"Open In Colab\"/></a>"
      ]
    },
    {
      "cell_type": "markdown",
      "source": [
        "Conditional Statements ->\n",
        "1. if statement"
      ],
      "metadata": {
        "id": "ZI0LBh0dL3rP"
      }
    },
    {
      "cell_type": "code",
      "source": [
        "# 1. if statement\n",
        "a = 10\n",
        "b = 20"
      ],
      "metadata": {
        "id": "9podhdaWMOEx"
      },
      "execution_count": 1,
      "outputs": []
    },
    {
      "cell_type": "code",
      "source": [
        "if a>b:\n",
        "  print(\"a is greater than b\")"
      ],
      "metadata": {
        "id": "K5IOBD58F4uX"
      },
      "execution_count": 2,
      "outputs": []
    },
    {
      "cell_type": "code",
      "source": [
        "if b>a:\n",
        "  print(\"b is greater than a\")"
      ],
      "metadata": {
        "id": "bL-kq66nGE3r",
        "outputId": "0fd93743-d8aa-48d8-bd6e-73b52cefd8d9",
        "colab": {
          "base_uri": "https://localhost:8080/"
        }
      },
      "execution_count": 3,
      "outputs": [
        {
          "output_type": "stream",
          "name": "stdout",
          "text": [
            "b is greater than a\n"
          ]
        }
      ]
    },
    {
      "cell_type": "code",
      "source": [
        "# if-else\n",
        "if a>b:\n",
        "  print(\"a is greater than b\")\n",
        "else:\n",
        "  print(\"b is greater than a\")"
      ],
      "metadata": {
        "id": "6y-CblZcGK8i",
        "outputId": "cd3b90cf-26db-4724-dc62-197e344c3484",
        "colab": {
          "base_uri": "https://localhost:8080/"
        }
      },
      "execution_count": 8,
      "outputs": [
        {
          "output_type": "stream",
          "name": "stdout",
          "text": [
            "b is greater than a\n"
          ]
        }
      ]
    },
    {
      "cell_type": "code",
      "source": [
        "#Else-if\n",
        "a=10\n",
        "b=20\n",
        "c=30"
      ],
      "metadata": {
        "id": "X9liUTL2GYkE"
      },
      "execution_count": 6,
      "outputs": []
    },
    {
      "cell_type": "code",
      "source": [
        "if(a>b & a>c):\n",
        "  print(\"a is the greater\")\n",
        "elif (b>a & b>c):\n",
        "  print(\"b is the greater\")\n",
        "else:\n",
        "  print(\"c is the greater\")"
      ],
      "metadata": {
        "id": "xjLdV4ZLGeJL",
        "outputId": "e242ef11-fc39-45eb-aec5-fbc90b4712f9",
        "colab": {
          "base_uri": "https://localhost:8080/"
        }
      },
      "execution_count": 7,
      "outputs": [
        {
          "output_type": "stream",
          "name": "stdout",
          "text": [
            "c is the greater\n"
          ]
        }
      ]
    },
    {
      "cell_type": "code",
      "source": [
        "tup1 = {1,2,3,4}"
      ],
      "metadata": {
        "id": "9E1DT1XFGxM5"
      },
      "execution_count": 9,
      "outputs": []
    },
    {
      "cell_type": "code",
      "source": [
        "if 2 in tup1:\n",
        "  print(\"2 is present in the tuple\")"
      ],
      "metadata": {
        "id": "VARzuNn0HS4C",
        "outputId": "2f32637d-0bbe-4959-ad5f-2f20b7ef59f7",
        "colab": {
          "base_uri": "https://localhost:8080/"
        }
      },
      "execution_count": 10,
      "outputs": [
        {
          "output_type": "stream",
          "name": "stdout",
          "text": [
            "2 is present in the tuple\n"
          ]
        }
      ]
    },
    {
      "cell_type": "code",
      "source": [
        "if 6 in tup1:\n",
        "  print(\"6 is present in the tuple\")\n",
        "else:\n",
        "  print(\"6 is not present in the tuple\")"
      ],
      "metadata": {
        "id": "khJhfD4tHcqf",
        "outputId": "1e85cd17-8522-44a1-f05d-3cb1aae7fc79",
        "colab": {
          "base_uri": "https://localhost:8080/"
        }
      },
      "execution_count": 11,
      "outputs": [
        {
          "output_type": "stream",
          "name": "stdout",
          "text": [
            "6 is not present in the tuple\n"
          ]
        }
      ]
    },
    {
      "cell_type": "code",
      "source": [
        "#if with List\n",
        "l1 = [1,2,3,4,5]"
      ],
      "metadata": {
        "id": "qLA4CjCVHmxv"
      },
      "execution_count": 12,
      "outputs": []
    },
    {
      "cell_type": "code",
      "source": [
        "if l1[1] == 2:\n",
        "  l1[1] =l1[1]+100\n",
        "  l1"
      ],
      "metadata": {
        "id": "h0FHBLrrHxf4"
      },
      "execution_count": 14,
      "outputs": []
    },
    {
      "cell_type": "code",
      "source": [
        "if l1[4] == 10:\n",
        "  l1[4] =l1[4]+100\n",
        "else:\n",
        "  l1[4] = l1[4]+500\n",
        "l1"
      ],
      "metadata": {
        "id": "zFschChvIABE",
        "outputId": "09df5d7b-52cc-4853-ef3a-e6e8a6136aff",
        "colab": {
          "base_uri": "https://localhost:8080/"
        }
      },
      "execution_count": 15,
      "outputs": [
        {
          "output_type": "execute_result",
          "data": {
            "text/plain": [
              "[1, 102, 3, 4, 505]"
            ]
          },
          "metadata": {},
          "execution_count": 15
        }
      ]
    },
    {
      "cell_type": "code",
      "source": [
        "# if with Dictionary\n",
        "d1 ={\"a\":1,\"b\":2,\"c\":3}"
      ],
      "metadata": {
        "id": "eM_OK5r_IO_Y"
      },
      "execution_count": 16,
      "outputs": []
    },
    {
      "cell_type": "code",
      "source": [
        "if d1[\"b\"] ==2:\n",
        "  d1[\"b\"] = d1[\"b\"]+100\n",
        "d1"
      ],
      "metadata": {
        "id": "3e933Hl_IZvG",
        "outputId": "87f2a814-a373-4be6-97b8-3436b7a5c893",
        "colab": {
          "base_uri": "https://localhost:8080/"
        }
      },
      "execution_count": 18,
      "outputs": [
        {
          "output_type": "execute_result",
          "data": {
            "text/plain": [
              "{'a': 1, 'b': 102, 'c': 3}"
            ]
          },
          "metadata": {},
          "execution_count": 18
        }
      ]
    }
  ]
}