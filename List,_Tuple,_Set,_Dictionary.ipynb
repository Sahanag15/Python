{
  "nbformat": 4,
  "nbformat_minor": 0,
  "metadata": {
    "colab": {
      "provenance": [],
      "authorship_tag": "ABX9TyPR/1QcqBXD2QDUOoWNTzHW",
      "include_colab_link": true
    },
    "kernelspec": {
      "name": "python3",
      "display_name": "Python 3"
    },
    "language_info": {
      "name": "python"
    }
  },
  "cells": [
    {
      "cell_type": "markdown",
      "metadata": {
        "id": "view-in-github",
        "colab_type": "text"
      },
      "source": [
        "<a href=\"https://colab.research.google.com/github/Sahanag15/Python/blob/main/List%2C_Tuple%2C_Set%2C_Dictionary.ipynb\" target=\"_parent\"><img src=\"https://colab.research.google.com/assets/colab-badge.svg\" alt=\"Open In Colab\"/></a>"
      ]
    },
    {
      "cell_type": "markdown",
      "source": [
        " **Tuples in Python** ->  It is denoted by ().\n",
        "1. Multiple values can be assigned with same or different types.\n",
        "2. Value can be fetched using indexing.\n",
        "3. It is  Immutable.\n",
        "4. Methods that can be used in Tuples are-\n",
        "  a. list.count(x)\n",
        "  b. list.index(x)"
      ],
      "metadata": {
        "id": "Gfvz49u-3Xlj"
      }
    },
    {
      "cell_type": "code",
      "source": [
        "a = (1, 2,3,4)\n",
        "print(a)"
      ],
      "metadata": {
        "colab": {
          "base_uri": "https://localhost:8080/"
        },
        "id": "u1-d6I6n5tgc",
        "outputId": "b3c86f16-33c0-4e3f-e9c9-fda298196a3c"
      },
      "execution_count": null,
      "outputs": [
        {
          "output_type": "stream",
          "name": "stdout",
          "text": [
            "(1, 2, 3, 4)\n"
          ]
        }
      ]
    },
    {
      "cell_type": "code",
      "source": [
        "b = (1,10234,\"SAHANA\")\n",
        "print(b)"
      ],
      "metadata": {
        "colab": {
          "base_uri": "https://localhost:8080/"
        },
        "id": "0U3JWrgQ5zo5",
        "outputId": "042eff2c-2c28-4d62-fca0-f7e3d86cf66b"
      },
      "execution_count": null,
      "outputs": [
        {
          "output_type": "stream",
          "name": "stdout",
          "text": [
            "(1, 10234, 'SAHANA')\n"
          ]
        }
      ]
    },
    {
      "cell_type": "code",
      "source": [
        "c = (4,5,7)\n",
        "print(c[0])"
      ],
      "metadata": {
        "colab": {
          "base_uri": "https://localhost:8080/"
        },
        "id": "iJEYmaE26QJh",
        "outputId": "150622f6-8c59-4a19-8f6e-9d91ed5e2232"
      },
      "execution_count": null,
      "outputs": [
        {
          "output_type": "stream",
          "name": "stdout",
          "text": [
            "4\n"
          ]
        }
      ]
    },
    {
      "cell_type": "code",
      "source": [
        "c[0]"
      ],
      "metadata": {
        "colab": {
          "base_uri": "https://localhost:8080/"
        },
        "id": "GKBYIAVJ6Xo7",
        "outputId": "f2a08c55-27c6-47dc-b283-fcf61ec32c29"
      },
      "execution_count": null,
      "outputs": [
        {
          "output_type": "execute_result",
          "data": {
            "text/plain": [
              "4"
            ]
          },
          "metadata": {},
          "execution_count": 4
        }
      ]
    },
    {
      "cell_type": "code",
      "source": [
        "d = (1,2,3,4)\n",
        "d[1]= 4\n",
        "print(d)"
      ],
      "metadata": {
        "colab": {
          "base_uri": "https://localhost:8080/",
          "height": 176
        },
        "id": "XteAi5ed6ZxC",
        "outputId": "b50c07bb-e617-4ba9-b304-a8e0e85f29b2"
      },
      "execution_count": null,
      "outputs": [
        {
          "output_type": "error",
          "ename": "TypeError",
          "evalue": "'tuple' object does not support item assignment",
          "traceback": [
            "\u001b[0;31m---------------------------------------------------------------------------\u001b[0m",
            "\u001b[0;31mTypeError\u001b[0m                                 Traceback (most recent call last)",
            "\u001b[0;32m/tmp/ipython-input-3299606245.py\u001b[0m in \u001b[0;36m<cell line: 0>\u001b[0;34m()\u001b[0m\n\u001b[1;32m      1\u001b[0m \u001b[0md\u001b[0m \u001b[0;34m=\u001b[0m \u001b[0;34m(\u001b[0m\u001b[0;36m1\u001b[0m\u001b[0;34m,\u001b[0m\u001b[0;36m2\u001b[0m\u001b[0;34m,\u001b[0m\u001b[0;36m3\u001b[0m\u001b[0;34m,\u001b[0m\u001b[0;36m4\u001b[0m\u001b[0;34m)\u001b[0m\u001b[0;34m\u001b[0m\u001b[0;34m\u001b[0m\u001b[0m\n\u001b[0;32m----> 2\u001b[0;31m \u001b[0md\u001b[0m\u001b[0;34m[\u001b[0m\u001b[0;36m1\u001b[0m\u001b[0;34m]\u001b[0m\u001b[0;34m=\u001b[0m \u001b[0;36m4\u001b[0m\u001b[0;34m\u001b[0m\u001b[0;34m\u001b[0m\u001b[0m\n\u001b[0m\u001b[1;32m      3\u001b[0m \u001b[0mprint\u001b[0m\u001b[0;34m(\u001b[0m\u001b[0md\u001b[0m\u001b[0;34m)\u001b[0m\u001b[0;34m\u001b[0m\u001b[0;34m\u001b[0m\u001b[0m\n",
            "\u001b[0;31mTypeError\u001b[0m: 'tuple' object does not support item assignment"
          ]
        }
      ]
    },
    {
      "cell_type": "code",
      "source": [
        "a=(1,2,3)\n",
        "b=(4,5,6)\n",
        "c=(a+b) # Concatination in Tuple using \"+\"\n",
        "print(c)"
      ],
      "metadata": {
        "colab": {
          "base_uri": "https://localhost:8080/"
        },
        "id": "veOQiXUo6mjC",
        "outputId": "4920d278-3cc9-432f-e683-aecd95a28732"
      },
      "execution_count": null,
      "outputs": [
        {
          "output_type": "stream",
          "name": "stdout",
          "text": [
            "(1, 2, 3, 4, 5, 6)\n"
          ]
        }
      ]
    },
    {
      "cell_type": "code",
      "source": [
        "# Calculate the length of the Tuple\n",
        "d=(\"Sahana\", 56, 78, 90)\n",
        "print(len(d))"
      ],
      "metadata": {
        "colab": {
          "base_uri": "https://localhost:8080/"
        },
        "id": "20x2VX5s66hS",
        "outputId": "06b76655-8a99-4a21-e7b4-bbcb8da2fee6"
      },
      "execution_count": null,
      "outputs": [
        {
          "output_type": "stream",
          "name": "stdout",
          "text": [
            "4\n"
          ]
        }
      ]
    },
    {
      "cell_type": "code",
      "source": [
        "# Basic Functions in Tuples\n",
        "a=()\n",
        "dir(a)"
      ],
      "metadata": {
        "colab": {
          "base_uri": "https://localhost:8080/"
        },
        "collapsed": true,
        "id": "AexFqapn7QgR",
        "outputId": "370929b6-0a8e-4831-f3cc-cb74fa3dc90c"
      },
      "execution_count": null,
      "outputs": [
        {
          "output_type": "execute_result",
          "data": {
            "text/plain": [
              "['__add__',\n",
              " '__class__',\n",
              " '__class_getitem__',\n",
              " '__contains__',\n",
              " '__delattr__',\n",
              " '__dir__',\n",
              " '__doc__',\n",
              " '__eq__',\n",
              " '__format__',\n",
              " '__ge__',\n",
              " '__getattribute__',\n",
              " '__getitem__',\n",
              " '__getnewargs__',\n",
              " '__getstate__',\n",
              " '__gt__',\n",
              " '__hash__',\n",
              " '__init__',\n",
              " '__init_subclass__',\n",
              " '__iter__',\n",
              " '__le__',\n",
              " '__len__',\n",
              " '__lt__',\n",
              " '__mul__',\n",
              " '__ne__',\n",
              " '__new__',\n",
              " '__reduce__',\n",
              " '__reduce_ex__',\n",
              " '__repr__',\n",
              " '__rmul__',\n",
              " '__setattr__',\n",
              " '__sizeof__',\n",
              " '__str__',\n",
              " '__subclasshook__',\n",
              " 'count',\n",
              " 'index']"
            ]
          },
          "metadata": {},
          "execution_count": 8
        }
      ]
    },
    {
      "cell_type": "code",
      "source": [
        "a=(1,2,3)\n",
        "a.append(4)"
      ],
      "metadata": {
        "colab": {
          "base_uri": "https://localhost:8080/",
          "height": 159
        },
        "id": "WGN7xkOq7rIR",
        "outputId": "18fee6ce-5863-4248-bb0a-766e81623002"
      },
      "execution_count": null,
      "outputs": [
        {
          "output_type": "error",
          "ename": "AttributeError",
          "evalue": "'tuple' object has no attribute 'append'",
          "traceback": [
            "\u001b[0;31m---------------------------------------------------------------------------\u001b[0m",
            "\u001b[0;31mAttributeError\u001b[0m                            Traceback (most recent call last)",
            "\u001b[0;32m/tmp/ipython-input-4284198203.py\u001b[0m in \u001b[0;36m<cell line: 0>\u001b[0;34m()\u001b[0m\n\u001b[1;32m      1\u001b[0m \u001b[0ma\u001b[0m\u001b[0;34m=\u001b[0m\u001b[0;34m(\u001b[0m\u001b[0;36m1\u001b[0m\u001b[0;34m,\u001b[0m\u001b[0;36m2\u001b[0m\u001b[0;34m,\u001b[0m\u001b[0;36m3\u001b[0m\u001b[0;34m)\u001b[0m\u001b[0;34m\u001b[0m\u001b[0;34m\u001b[0m\u001b[0m\n\u001b[0;32m----> 2\u001b[0;31m \u001b[0ma\u001b[0m\u001b[0;34m.\u001b[0m\u001b[0mappend\u001b[0m\u001b[0;34m(\u001b[0m\u001b[0;36m4\u001b[0m\u001b[0;34m)\u001b[0m\u001b[0;34m\u001b[0m\u001b[0;34m\u001b[0m\u001b[0m\n\u001b[0m",
            "\u001b[0;31mAttributeError\u001b[0m: 'tuple' object has no attribute 'append'"
          ]
        }
      ]
    },
    {
      "cell_type": "code",
      "source": [
        "a.index(3)"
      ],
      "metadata": {
        "colab": {
          "base_uri": "https://localhost:8080/"
        },
        "id": "gU7eTbtb710L",
        "outputId": "8229b8f5-e8dc-4fc4-a5df-85f7acd06abb"
      },
      "execution_count": null,
      "outputs": [
        {
          "output_type": "execute_result",
          "data": {
            "text/plain": [
              "2"
            ]
          },
          "metadata": {},
          "execution_count": 10
        }
      ]
    },
    {
      "cell_type": "code",
      "source": [
        "b=(2,3,4,5,8,3)\n",
        "b.count(3)# Count function will give me the count of duplicate numbers"
      ],
      "metadata": {
        "colab": {
          "base_uri": "https://localhost:8080/"
        },
        "id": "zXGEuEtJ79Xp",
        "outputId": "83f4d14c-4fc2-4304-a09f-4792d1d16dc0"
      },
      "execution_count": null,
      "outputs": [
        {
          "output_type": "execute_result",
          "data": {
            "text/plain": [
              "2"
            ]
          },
          "metadata": {},
          "execution_count": 11
        }
      ]
    },
    {
      "cell_type": "markdown",
      "source": [
        "**List in Python** -> List is an ordered collection of elements enclosed with in square braces [].\n",
        "1. It is mutable.(The values can be modified)"
      ],
      "metadata": {
        "id": "f9vCjSJpcR1J"
      }
    },
    {
      "cell_type": "code",
      "source": [
        "l1 = [1,\"sparts\",3.14,True,3+5j]\n",
        "l1"
      ],
      "metadata": {
        "id": "GgPtn9_Dc1Uk",
        "outputId": "be95e906-4e32-40a5-ebc8-f36e0a97a976",
        "colab": {
          "base_uri": "https://localhost:8080/"
        }
      },
      "execution_count": null,
      "outputs": [
        {
          "output_type": "execute_result",
          "data": {
            "text/plain": [
              "[1, 'sparts', 3.14, True, (3+5j)]"
            ]
          },
          "metadata": {},
          "execution_count": 1
        }
      ]
    },
    {
      "cell_type": "code",
      "source": [
        "type(l1)"
      ],
      "metadata": {
        "id": "q-WmpJh0dBy4",
        "outputId": "eee4c339-9e56-41c8-e5d3-6524b876d531",
        "colab": {
          "base_uri": "https://localhost:8080/"
        }
      },
      "execution_count": null,
      "outputs": [
        {
          "output_type": "execute_result",
          "data": {
            "text/plain": [
              "list"
            ]
          },
          "metadata": {},
          "execution_count": 2
        }
      ]
    },
    {
      "cell_type": "code",
      "source": [
        "#Extracting Individual Elements\n",
        "l1"
      ],
      "metadata": {
        "id": "A1Y--HVydQxA",
        "outputId": "801620a3-c60c-48cb-ce71-e14dac24fe72",
        "colab": {
          "base_uri": "https://localhost:8080/"
        }
      },
      "execution_count": null,
      "outputs": [
        {
          "output_type": "execute_result",
          "data": {
            "text/plain": [
              "[1, 'sparts', 3.14, True, (3+5j)]"
            ]
          },
          "metadata": {},
          "execution_count": 3
        }
      ]
    },
    {
      "cell_type": "code",
      "source": [
        "l1[-1] #to display the last element in the list"
      ],
      "metadata": {
        "id": "37FVYb2Tgb5x",
        "outputId": "51a5f018-d1b7-4d3e-ade9-99ee6de0b1f9",
        "colab": {
          "base_uri": "https://localhost:8080/"
        }
      },
      "execution_count": null,
      "outputs": [
        {
          "output_type": "execute_result",
          "data": {
            "text/plain": [
              "(3+5j)"
            ]
          },
          "metadata": {},
          "execution_count": 6
        }
      ]
    },
    {
      "cell_type": "code",
      "source": [
        "l1[1:4]"
      ],
      "metadata": {
        "id": "OBVFFbY3hE-h",
        "outputId": "a83dc76a-a09f-4254-bd97-aea98ba21a1a",
        "colab": {
          "base_uri": "https://localhost:8080/"
        }
      },
      "execution_count": null,
      "outputs": [
        {
          "output_type": "execute_result",
          "data": {
            "text/plain": [
              "['sparts', 3.14, True]"
            ]
          },
          "metadata": {},
          "execution_count": 7
        }
      ]
    },
    {
      "cell_type": "code",
      "source": [
        "# Modifying a List\n",
        "# 1. Changing the element at 0th index\n",
        "l1"
      ],
      "metadata": {
        "id": "C4ZwEf1XhPVC",
        "outputId": "1c80ea1a-00a8-454c-ae35-795bc74404f2",
        "colab": {
          "base_uri": "https://localhost:8080/"
        }
      },
      "execution_count": null,
      "outputs": [
        {
          "output_type": "execute_result",
          "data": {
            "text/plain": [
              "[1, 'sparts', 3.14, True, (3+5j)]"
            ]
          },
          "metadata": {},
          "execution_count": 10
        }
      ]
    },
    {
      "cell_type": "code",
      "source": [
        "l1[0]=100\n",
        "l1"
      ],
      "metadata": {
        "id": "sUPND-0FhsJh",
        "outputId": "7ed85c02-f8e8-41dc-924a-83ad9c7b29de",
        "colab": {
          "base_uri": "https://localhost:8080/"
        }
      },
      "execution_count": null,
      "outputs": [
        {
          "output_type": "execute_result",
          "data": {
            "text/plain": [
              "[100, 'sparts', 3.14, True, (3+5j)]"
            ]
          },
          "metadata": {},
          "execution_count": 11
        }
      ]
    },
    {
      "cell_type": "code",
      "source": [
        "l1.append(\"Hello world\") # to add the element in the Last\n",
        "l1"
      ],
      "metadata": {
        "id": "KCWv_6Wbh9rQ",
        "outputId": "4822b582-e45f-4ffe-ec19-796a6fe132ef",
        "colab": {
          "base_uri": "https://localhost:8080/"
        }
      },
      "execution_count": null,
      "outputs": [
        {
          "output_type": "execute_result",
          "data": {
            "text/plain": [
              "[100, 'sparts', 3.14, True, (3+5j), 'Hello world']"
            ]
          },
          "metadata": {},
          "execution_count": 12
        }
      ]
    },
    {
      "cell_type": "code",
      "source": [
        "# Modifying a List\n",
        "l1"
      ],
      "metadata": {
        "id": "FyAbMUt7ihnI",
        "outputId": "4b970eb7-7fa5-4b94-9f25-f7d79fabe817",
        "colab": {
          "base_uri": "https://localhost:8080/"
        }
      },
      "execution_count": null,
      "outputs": [
        {
          "output_type": "execute_result",
          "data": {
            "text/plain": [
              "[100, 'sparts', 3.14, True, (3+5j)]"
            ]
          },
          "metadata": {},
          "execution_count": 14
        }
      ]
    },
    {
      "cell_type": "code",
      "source": [
        "# 1. Reversing elements of a list\n",
        "l1.reverse()\n",
        "l1"
      ],
      "metadata": {
        "id": "T3CHpPvmizqi",
        "outputId": "a5c8c5ce-4596-4703-8921-ed6d5649f0ec",
        "colab": {
          "base_uri": "https://localhost:8080/"
        }
      },
      "execution_count": null,
      "outputs": [
        {
          "output_type": "execute_result",
          "data": {
            "text/plain": [
              "[(3+5j), True, 3.14, 'Python', 'sparts', 100]"
            ]
          },
          "metadata": {},
          "execution_count": 18
        }
      ]
    },
    {
      "cell_type": "code",
      "source": [
        "l1.reverse()\n",
        "l1"
      ],
      "metadata": {
        "id": "l69z6jUojUGB",
        "outputId": "7d5557d2-37da-44bc-946d-ded2b00dc57f",
        "colab": {
          "base_uri": "https://localhost:8080/"
        }
      },
      "execution_count": null,
      "outputs": [
        {
          "output_type": "execute_result",
          "data": {
            "text/plain": [
              "[100, 'sparts', 'Python', 3.14, True, (3+5j)]"
            ]
          },
          "metadata": {},
          "execution_count": 19
        }
      ]
    },
    {
      "cell_type": "code",
      "source": [
        "# 2. Inserting element at a specified index\n",
        "l1.insert(3,\"Python\") # In insert method there are 2 parameter 1 is index position and the other is element itself\n",
        "l1"
      ],
      "metadata": {
        "id": "90H12z6si1zI",
        "outputId": "73d19cd4-58da-43a9-91fc-cb4643864304",
        "colab": {
          "base_uri": "https://localhost:8080/"
        }
      },
      "execution_count": null,
      "outputs": [
        {
          "output_type": "execute_result",
          "data": {
            "text/plain": [
              "[100, 'sparts', 'Python', 'Python', 3.14, True, (3+5j)]"
            ]
          },
          "metadata": {},
          "execution_count": 20
        }
      ]
    },
    {
      "cell_type": "code",
      "source": [
        "# 3. Sorting a List\n",
        "l2 = [\"mango\",\"banana\",\"guava\",\"apple\"]\n",
        "l2.sort()\n",
        "l2"
      ],
      "metadata": {
        "id": "td0j1EFgjeNw",
        "outputId": "ed7c9fec-25f3-4766-dd31-d9d605ce75eb",
        "colab": {
          "base_uri": "https://localhost:8080/"
        }
      },
      "execution_count": null,
      "outputs": [
        {
          "output_type": "execute_result",
          "data": {
            "text/plain": [
              "['apple', 'banana', 'guava', 'mango']"
            ]
          },
          "metadata": {},
          "execution_count": 23
        }
      ]
    },
    {
      "cell_type": "code",
      "source": [
        "# List Basic Operations\n",
        "# 1. Concatenating lists\n",
        "l1 = [1,2,3,4,5]\n",
        "l2 = [5,4,3,2,1]\n",
        "l1+l2"
      ],
      "metadata": {
        "id": "dakErTbflqZS",
        "outputId": "e0038520-54b1-48c3-c4ca-2d8825a04002",
        "colab": {
          "base_uri": "https://localhost:8080/"
        }
      },
      "execution_count": null,
      "outputs": [
        {
          "output_type": "execute_result",
          "data": {
            "text/plain": [
              "[1, 2, 3, 4, 5, 5, 4, 3, 2, 1]"
            ]
          },
          "metadata": {},
          "execution_count": 24
        }
      ]
    },
    {
      "cell_type": "code",
      "source": [
        "l2+l1"
      ],
      "metadata": {
        "id": "AF9r77AYmOMa",
        "outputId": "d6d88be3-9ba2-42ff-d40c-20b4df4a8fc8",
        "colab": {
          "base_uri": "https://localhost:8080/"
        }
      },
      "execution_count": null,
      "outputs": [
        {
          "output_type": "execute_result",
          "data": {
            "text/plain": [
              "[5, 4, 3, 2, 1, 1, 2, 3, 4, 5]"
            ]
          },
          "metadata": {},
          "execution_count": 25
        }
      ]
    },
    {
      "cell_type": "code",
      "source": [
        "# 2. Repeating elements\n",
        "l1*5"
      ],
      "metadata": {
        "id": "FgHdYuQSl4r6",
        "outputId": "23bb2f5f-2061-4cb3-9f75-0d0deb3ef58d",
        "colab": {
          "base_uri": "https://localhost:8080/"
        }
      },
      "execution_count": null,
      "outputs": [
        {
          "output_type": "execute_result",
          "data": {
            "text/plain": [
              "[1, 2, 3, 4, 5, 1, 2, 3, 4, 5, 1, 2, 3, 4, 5, 1, 2, 3, 4, 5, 1, 2, 3, 4, 5]"
            ]
          },
          "metadata": {},
          "execution_count": 26
        }
      ]
    },
    {
      "cell_type": "markdown",
      "source": [
        "**Dictionary in Python** -> Dictionary is an unordered collection of key-value pairs enclosed with {} curly braces.\n",
        "Dictionary is a Mutable."
      ],
      "metadata": {
        "id": "5xCvX6ZsmWub"
      }
    },
    {
      "cell_type": "code",
      "source": [
        "fruits= {\"Apple\":50,\"banana\":30,\"orange\":40,\"peach\":100}"
      ],
      "metadata": {
        "id": "_aZ_uVGvnGtx"
      },
      "execution_count": null,
      "outputs": []
    },
    {
      "cell_type": "code",
      "source": [
        "type(fruits)"
      ],
      "metadata": {
        "id": "gStUOAMqnrbY",
        "outputId": "fb3a03c9-3515-4cdb-ae7f-257fbb57df60",
        "colab": {
          "base_uri": "https://localhost:8080/"
        }
      },
      "execution_count": null,
      "outputs": [
        {
          "output_type": "execute_result",
          "data": {
            "text/plain": [
              "dict"
            ]
          },
          "metadata": {},
          "execution_count": 36
        }
      ]
    },
    {
      "cell_type": "code",
      "source": [
        "# Extracting Keys and Values\n",
        "# 1. Extracting Keys\n",
        "fruits.keys()"
      ],
      "metadata": {
        "id": "ENf6DwbonxpQ",
        "outputId": "aabfaa46-04d5-4fd2-b96c-f8fc90dd56df",
        "colab": {
          "base_uri": "https://localhost:8080/"
        }
      },
      "execution_count": null,
      "outputs": [
        {
          "output_type": "execute_result",
          "data": {
            "text/plain": [
              "dict_keys(['Apple', 'banana', 'orange', 'peach'])"
            ]
          },
          "metadata": {},
          "execution_count": 37
        }
      ]
    },
    {
      "cell_type": "code",
      "source": [
        "# 2. Extracting Values\n",
        "fruits.values()"
      ],
      "metadata": {
        "id": "u54O-SIOn9ta",
        "outputId": "c03bb567-edd4-4ed2-c083-d0735b10dc90",
        "colab": {
          "base_uri": "https://localhost:8080/"
        }
      },
      "execution_count": null,
      "outputs": [
        {
          "output_type": "execute_result",
          "data": {
            "text/plain": [
              "dict_values([50, 30, 40, 100])"
            ]
          },
          "metadata": {},
          "execution_count": 38
        }
      ]
    },
    {
      "cell_type": "code",
      "source": [
        "# Modifying a Dictionary\n",
        "fruits"
      ],
      "metadata": {
        "id": "8Ccol3tJoUJ6",
        "outputId": "e73af530-b6eb-4ac2-afdc-73f55694d1a2",
        "colab": {
          "base_uri": "https://localhost:8080/"
        }
      },
      "execution_count": null,
      "outputs": [
        {
          "output_type": "execute_result",
          "data": {
            "text/plain": [
              "{'Apple': 50, 'banana': 30, 'orange': 40, 'peach': 100}"
            ]
          },
          "metadata": {},
          "execution_count": 39
        }
      ]
    },
    {
      "cell_type": "code",
      "source": [
        "# 1. adding a new element\n",
        "fruits[\"kiwi\"]=50\n",
        "fruits"
      ],
      "metadata": {
        "id": "A3eLraVoo9so",
        "outputId": "60e282a9-e05b-4f52-9938-1a50186ff3ae",
        "colab": {
          "base_uri": "https://localhost:8080/"
        }
      },
      "execution_count": null,
      "outputs": [
        {
          "output_type": "execute_result",
          "data": {
            "text/plain": [
              "{'Apple': 50, 'banana': 30, 'orange': 40, 'peach': 100, 'kiwi': 50}"
            ]
          },
          "metadata": {},
          "execution_count": 40
        }
      ]
    },
    {
      "cell_type": "code",
      "source": [
        "# 2. Changing an existing element\n",
        "fruits[\"Apple\"]=100\n",
        "fruits"
      ],
      "metadata": {
        "id": "7MS_cxVaobbh",
        "outputId": "02201225-a4ae-458b-ef61-64a58c2d40d5",
        "colab": {
          "base_uri": "https://localhost:8080/"
        }
      },
      "execution_count": null,
      "outputs": [
        {
          "output_type": "execute_result",
          "data": {
            "text/plain": [
              "{'Apple': 100, 'banana': 30, 'orange': 40, 'peach': 100, 'kiwi': 50}"
            ]
          },
          "metadata": {},
          "execution_count": 41
        }
      ]
    },
    {
      "cell_type": "code",
      "source": [
        "# Dictionary Functions\n",
        "fruits1 = {\"apple\":50,\"banana\":10}\n",
        "fruits2 = {\"mango\":100,\"Dragonfruit\":500}"
      ],
      "metadata": {
        "id": "R2S0P-jkpiRK"
      },
      "execution_count": null,
      "outputs": []
    },
    {
      "cell_type": "code",
      "source": [
        "# 1. Update one dictionary's elements with another\n",
        "fruits1.update(fruits2)\n",
        "fruits1"
      ],
      "metadata": {
        "id": "8c82-1H4pnNB",
        "outputId": "7777f468-a172-460a-90d9-da068edb1bcc",
        "colab": {
          "base_uri": "https://localhost:8080/"
        }
      },
      "execution_count": null,
      "outputs": [
        {
          "output_type": "execute_result",
          "data": {
            "text/plain": [
              "{'apple': 50, 'banana': 10, 'mango': 100, 'Dragonfruit': 500}"
            ]
          },
          "metadata": {},
          "execution_count": 44
        }
      ]
    },
    {
      "cell_type": "code",
      "source": [
        "# 2. Popping an element\n",
        "fruits1.pop(\"mango\")\n",
        "fruits1"
      ],
      "metadata": {
        "id": "VH7l7utdp4vZ",
        "outputId": "3429a65f-6a7b-4c60-e6a6-4fd35ddb601d",
        "colab": {
          "base_uri": "https://localhost:8080/"
        }
      },
      "execution_count": null,
      "outputs": [
        {
          "output_type": "execute_result",
          "data": {
            "text/plain": [
              "{'apple': 50, 'banana': 10, 'Dragonfruit': 500}"
            ]
          },
          "metadata": {},
          "execution_count": 45
        }
      ]
    },
    {
      "cell_type": "markdown",
      "source": [
        "**Set in Python** -> Set is an unordered and unindexed collection of elements enclosed with{} curly braces. also its an heterogenous values accepted.\n",
        "1. duplicate values are not allowed in Set."
      ],
      "metadata": {
        "id": "wEvPA4YZH2yp"
      }
    },
    {
      "cell_type": "code",
      "source": [
        "s1 = {1,\"sparta\",\"sparta\",1}\n",
        "s1"
      ],
      "metadata": {
        "id": "uwo2lbBXIXMc",
        "outputId": "b737c2df-989f-4496-ec90-038729a2628d",
        "colab": {
          "base_uri": "https://localhost:8080/"
        }
      },
      "execution_count": 3,
      "outputs": [
        {
          "output_type": "execute_result",
          "data": {
            "text/plain": [
              "{1, 'sparta'}"
            ]
          },
          "metadata": {},
          "execution_count": 3
        }
      ]
    },
    {
      "cell_type": "code",
      "source": [
        "# Set Operations\n",
        "s1"
      ],
      "metadata": {
        "id": "_qbKNCc3JOBS",
        "outputId": "bc0287cb-46d0-4f0b-cd2f-dd1f6b75fbc3",
        "colab": {
          "base_uri": "https://localhost:8080/"
        }
      },
      "execution_count": 4,
      "outputs": [
        {
          "output_type": "execute_result",
          "data": {
            "text/plain": [
              "{1, 'sparta'}"
            ]
          },
          "metadata": {},
          "execution_count": 4
        }
      ]
    },
    {
      "cell_type": "code",
      "source": [
        "# 1. adding a new element\n",
        "s1.add(\"hello world\")\n",
        "s1"
      ],
      "metadata": {
        "id": "OtGufxGAJTl4",
        "outputId": "c1cce103-ae26-4f48-a868-46e45649f345",
        "colab": {
          "base_uri": "https://localhost:8080/"
        }
      },
      "execution_count": 5,
      "outputs": [
        {
          "output_type": "execute_result",
          "data": {
            "text/plain": [
              "{1, 'hello world', 'sparta'}"
            ]
          },
          "metadata": {},
          "execution_count": 5
        }
      ]
    },
    {
      "cell_type": "code",
      "source": [
        "# 2. Updating multiple element\n",
        "s1.update({\"abc\",\"jack\",3.14})\n",
        "s1"
      ],
      "metadata": {
        "id": "re4Xf0xNJW44",
        "outputId": "58ddefa2-372a-4295-c52a-a144b2251909",
        "colab": {
          "base_uri": "https://localhost:8080/"
        }
      },
      "execution_count": 7,
      "outputs": [
        {
          "output_type": "execute_result",
          "data": {
            "text/plain": [
              "{1, 3.14, 'abc', 'hello world', 'jack', 'sparta'}"
            ]
          },
          "metadata": {},
          "execution_count": 7
        }
      ]
    },
    {
      "cell_type": "code",
      "source": [
        "# 3. Removing an element\n",
        "s1.remove(3.14)\n",
        "s1"
      ],
      "metadata": {
        "id": "T2h9tB3NJbvy",
        "outputId": "1ee6b354-46e2-471c-db0b-f9dd81261a90",
        "colab": {
          "base_uri": "https://localhost:8080/"
        }
      },
      "execution_count": 8,
      "outputs": [
        {
          "output_type": "execute_result",
          "data": {
            "text/plain": [
              "{1, 'abc', 'hello world', 'jack', 'sparta'}"
            ]
          },
          "metadata": {},
          "execution_count": 8
        }
      ]
    },
    {
      "cell_type": "code",
      "source": [
        "# Set Function\n",
        "# 1. Union Function -> It concatenating two sets\n",
        "# 2. Intersection Function -> It used to get the common elements."
      ],
      "metadata": {
        "id": "O9M_uWu7KYkr"
      },
      "execution_count": null,
      "outputs": []
    },
    {
      "cell_type": "code",
      "source": [
        "s1 = {1,2,3}\n",
        "s2 ={\"a\",\"b\",\"c\"}"
      ],
      "metadata": {
        "id": "JRLDJIcpLA4A"
      },
      "execution_count": 9,
      "outputs": []
    },
    {
      "cell_type": "code",
      "source": [
        "# 1. Union Function\n",
        "s1.union(s2)"
      ],
      "metadata": {
        "id": "tdXDMd7aKyTo",
        "outputId": "59d091df-b17c-4a04-8dc5-876c8bacd13e",
        "colab": {
          "base_uri": "https://localhost:8080/"
        }
      },
      "execution_count": 10,
      "outputs": [
        {
          "output_type": "execute_result",
          "data": {
            "text/plain": [
              "{1, 2, 3, 'a', 'b', 'c'}"
            ]
          },
          "metadata": {},
          "execution_count": 10
        }
      ]
    },
    {
      "cell_type": "code",
      "source": [
        "# 2. Intersection Function\n",
        "s1 = {1,2,3,4,5}\n",
        "s2 = {3,4,5,6,7}\n",
        "s1.intersection(s2)"
      ],
      "metadata": {
        "id": "A8ek5QiCK1AX",
        "outputId": "be47a125-7708-4295-e788-d8faeafee254",
        "colab": {
          "base_uri": "https://localhost:8080/"
        }
      },
      "execution_count": 11,
      "outputs": [
        {
          "output_type": "execute_result",
          "data": {
            "text/plain": [
              "{3, 4, 5}"
            ]
          },
          "metadata": {},
          "execution_count": 11
        }
      ]
    }
  ]
}