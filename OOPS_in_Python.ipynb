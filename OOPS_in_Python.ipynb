{
  "nbformat": 4,
  "nbformat_minor": 0,
  "metadata": {
    "colab": {
      "provenance": [],
      "authorship_tag": "ABX9TyPs0jWJ7lTGCk/ibvL2Qf4g",
      "include_colab_link": true
    },
    "kernelspec": {
      "name": "python3",
      "display_name": "Python 3"
    },
    "language_info": {
      "name": "python"
    }
  },
  "cells": [
    {
      "cell_type": "markdown",
      "metadata": {
        "id": "view-in-github",
        "colab_type": "text"
      },
      "source": [
        "<a href=\"https://colab.research.google.com/github/Sahanag15/Python/blob/main/OOPS_in_Python.ipynb\" target=\"_parent\"><img src=\"https://colab.research.google.com/assets/colab-badge.svg\" alt=\"Open In Colab\"/></a>"
      ]
    },
    {
      "cell_type": "markdown",
      "source": [
        "**Python Object Oriented Programming**\n",
        "**Class** -> Class is a template/blue-print for real-world entities.\n",
        "# **Properties** -> color, cost, battery life\n",
        "# **Behavior** -> make calls, watch videos, play games.\n",
        "Class is a user-defined data-type\n",
        "*User-defined data-type -> It is a data-type which you can create by yourself.*\n",
        "types is 1. Attributes , 2. Methods.\n",
        "\n",
        "** Objects** -> Objects are specific instances of a class."
      ],
      "metadata": {
        "id": "859JLM8rcZi6"
      }
    },
    {
      "cell_type": "code",
      "source": [
        "#Creating the first\n",
        "class Phone:\n",
        "  def make_call(self):\n",
        "    print(\"Making phone call\") #------------------> Creating the\"Phone\" class\n",
        "  def play_game(self):\n",
        "    print(\"Playing Game\")\n",
        "p1 = Phone()  #-----------------------------------> Initializing the \"p1\" as a object of a class \"Phone\"\n",
        "p1.make_call()\n",
        "p1.play_game()    #-------------------------------> Invoking methods through object"
      ],
      "metadata": {
        "colab": {
          "base_uri": "https://localhost:8080/"
        },
        "id": "doBmjF8ye4pF",
        "outputId": "7b3f9a32-ef39-4c81-8f78-28dbd02cc9dd"
      },
      "execution_count": 2,
      "outputs": [
        {
          "output_type": "stream",
          "name": "stdout",
          "text": [
            "Making phone call\n",
            "Playing Game\n"
          ]
        }
      ]
    },
    {
      "cell_type": "code",
      "source": [
        "#Adding Parameters to a Class Method\n",
        "class Phone:\n",
        "  def set_color(self, color):\n",
        "    self.color = color   #---------------------------->setting the attributes values\n",
        "  def set_cost(self, cost):\n",
        "    self.cost = cost     #---------------------------->setting the attributes values\n",
        "  def show_cost(self):\n",
        "    return self.cost      #----------------------------> Returning the attributes values\n",
        "  def show_color(self):\n",
        "    return self.color     #----------------------------> Returning the attributes values\n",
        "\n",
        "  def make_call(self):\n",
        "    print(\"Making phone call\")\n",
        "  def play_game(self):\n",
        "    print(\"Playing Game\")\n"
      ],
      "metadata": {
        "id": "zQ1jAs6-gHgU"
      },
      "execution_count": 6,
      "outputs": []
    },
    {
      "cell_type": "code",
      "source": [
        "p2 = Phone()\n"
      ],
      "metadata": {
        "id": "O7xDbNgeiwA8"
      },
      "execution_count": 10,
      "outputs": []
    },
    {
      "cell_type": "code",
      "source": [
        "p2.set_color('Blue')\n",
        "p2.set_cost(600)"
      ],
      "metadata": {
        "id": "P6wzfznzi5O7"
      },
      "execution_count": 12,
      "outputs": []
    },
    {
      "cell_type": "code",
      "source": [
        "p2.show_color()"
      ],
      "metadata": {
        "colab": {
          "base_uri": "https://localhost:8080/",
          "height": 36
        },
        "id": "1EbKWzcGiMCP",
        "outputId": "8a5041fa-b11a-4ba5-9e77-c28d7648682c"
      },
      "execution_count": 18,
      "outputs": [
        {
          "output_type": "execute_result",
          "data": {
            "text/plain": [
              "'Blue'"
            ],
            "application/vnd.google.colaboratory.intrinsic+json": {
              "type": "string"
            }
          },
          "metadata": {},
          "execution_count": 18
        }
      ]
    },
    {
      "cell_type": "code",
      "source": [
        "p2.show_cost()"
      ],
      "metadata": {
        "colab": {
          "base_uri": "https://localhost:8080/"
        },
        "id": "OeKBERO5jOZ7",
        "outputId": "9d48b387-9ae0-4cf9-af3e-00a00ca29f9f"
      },
      "execution_count": 19,
      "outputs": [
        {
          "output_type": "execute_result",
          "data": {
            "text/plain": [
              "600"
            ]
          },
          "metadata": {},
          "execution_count": 19
        }
      ]
    },
    {
      "cell_type": "code",
      "source": [
        "p2.make_call()\n",
        "p2.play_game()"
      ],
      "metadata": {
        "colab": {
          "base_uri": "https://localhost:8080/"
        },
        "id": "IelPfKQGjSEn",
        "outputId": "afbd565e-aa72-432d-d753-049703050fd9"
      },
      "execution_count": 20,
      "outputs": [
        {
          "output_type": "stream",
          "name": "stdout",
          "text": [
            "Making phone call\n",
            "Playing Game\n"
          ]
        }
      ]
    },
    {
      "cell_type": "code",
      "source": [
        "# Creating a class with Constructor\n",
        "class Employee:\n",
        "  def __init__(self, name,age,salary,gender): #------------------------> init method acts as the constructor\n",
        "    self.name = name\n",
        "    self.age = age\n",
        "    self.salary = salary\n",
        "    self.gender = gender\n",
        "  def employee_details(self):\n",
        "    print(\"Name of employee is \",self.name)\n",
        "    print(\"Age of employee is \",self.age)\n",
        "    print(\"Salary of employee is \",self.salary)\n",
        "    print(\"Gender of employee is \",self.gender)\n",
        ""
      ],
      "metadata": {
        "id": "wCW59GM2jZvX"
      },
      "execution_count": 1,
      "outputs": []
    },
    {
      "cell_type": "code",
      "source": [
        "e1 = Employee('Sam', 32,85000, 'Male') #------------------> Intialisation the 'e1' object"
      ],
      "metadata": {
        "id": "6-DsBC1YPiiH"
      },
      "execution_count": 4,
      "outputs": []
    },
    {
      "cell_type": "code",
      "source": [
        "e1.employee_details()  #-------------------------> Invoking the 'employee_details' method"
      ],
      "metadata": {
        "colab": {
          "base_uri": "https://localhost:8080/"
        },
        "id": "xRtFL808Pt89",
        "outputId": "c19982ae-2305-4ccd-c2c2-098949b3e7ea"
      },
      "execution_count": 5,
      "outputs": [
        {
          "output_type": "stream",
          "name": "stdout",
          "text": [
            "Name of employee is  Sam\n",
            "Age of employee is  32\n",
            "Salary of employee is  85000\n",
            "Gender of employee is  Male\n"
          ]
        }
      ]
    },
    {
      "cell_type": "code",
      "source": [
        "# Inheritence in Python -> With inheritence one class can derive the properties of another class."
      ],
      "metadata": {
        "id": "ueHkeSD1QcZI"
      },
      "execution_count": 7,
      "outputs": []
    },
    {
      "cell_type": "code",
      "source": [
        "class Vehicle:\n",
        "  def __init__(self,mileage, cost): #---------------------> Creating the base class\n",
        "    self.mileage = mileage\n",
        "    self.cost = cost\n",
        "  def show_details(self):\n",
        "    print(\"I am a Vehicle\")\n",
        "    print(\"Mileage of Vehicle is \", self.mileage)\n",
        "    print(\"Cost of Vehicle is \", self.cost)"
      ],
      "metadata": {
        "id": "3gUyVJNSRi7h"
      },
      "execution_count": 9,
      "outputs": []
    },
    {
      "cell_type": "code",
      "source": [
        "v1 = Vehicle(500, 500) #------------------------------------> Intializing the object for base class.\n",
        "v1.show_details()"
      ],
      "metadata": {
        "colab": {
          "base_uri": "https://localhost:8080/"
        },
        "id": "NpeqP0bgRlKy",
        "outputId": "fa7df941-e5ae-4cd8-d13f-102bd6f0ff2b"
      },
      "execution_count": 10,
      "outputs": [
        {
          "output_type": "stream",
          "name": "stdout",
          "text": [
            "I am a Vehicle\n",
            "Mileage of Vehicle is  500\n",
            "Cost of Vehicle is  500\n"
          ]
        }
      ]
    },
    {
      "cell_type": "code",
      "source": [
        "class Car(Vehicle): #----------------------> Creating the child class\n",
        "  def show_car(self):\n",
        "    print(\"I am a car\")"
      ],
      "metadata": {
        "id": "MShLMG0uVMwK"
      },
      "execution_count": 15,
      "outputs": []
    },
    {
      "cell_type": "code",
      "source": [
        "c1 = Car(200, 1200)"
      ],
      "metadata": {
        "id": "3cBKFQZvVWrr"
      },
      "execution_count": 16,
      "outputs": []
    },
    {
      "cell_type": "code",
      "source": [
        "c1.show_details() #----------------------> Instantiating the object for child class"
      ],
      "metadata": {
        "colab": {
          "base_uri": "https://localhost:8080/"
        },
        "id": "6pptrGN5Vb2n",
        "outputId": "5e7cafd5-c085-4297-d251-68a93beacea5"
      },
      "execution_count": 17,
      "outputs": [
        {
          "output_type": "stream",
          "name": "stdout",
          "text": [
            "I am a Vehicle\n",
            "Mileage of Vehicle is  200\n",
            "Cost of Vehicle is  1200\n"
          ]
        }
      ]
    },
    {
      "cell_type": "code",
      "source": [
        "c1.show_car() #--------------------------> Invoking the child class method"
      ],
      "metadata": {
        "colab": {
          "base_uri": "https://localhost:8080/"
        },
        "id": "buZ5VcZWVers",
        "outputId": "e6d052bc-ec25-4535-fa3c-e2345f8ef633"
      },
      "execution_count": 18,
      "outputs": [
        {
          "output_type": "stream",
          "name": "stdout",
          "text": [
            "I am a car\n"
          ]
        }
      ]
    },
    {
      "cell_type": "code",
      "source": [
        "# Over-riding init method\n",
        "class Car(Vehicle):\n",
        "\n",
        "  def __init__(self, mileage, cost, tyres, hp):\n",
        "    super().__init__(mileage, cost)\n",
        "    self.tyres = tyres\n",
        "    self.hp = hp\n",
        "                                                #----------------------------> Over-riding init method\n",
        "  def show_car_details(self):\n",
        "    print(\"I am a car\")\n",
        "    print(\"Number of tyres are \",self.tyres)\n",
        "    print(\"Value of horse power is \",self.hp)\n"
      ],
      "metadata": {
        "id": "LESdEDbbXlid"
      },
      "execution_count": 19,
      "outputs": []
    },
    {
      "cell_type": "code",
      "source": [
        "c1 = Car(20,12000,4,300) #--------------------> Invoking show_details() method from parent class"
      ],
      "metadata": {
        "id": "pdc4AqoqZFCR"
      },
      "execution_count": 23,
      "outputs": []
    },
    {
      "cell_type": "code",
      "source": [
        "c1.show_details()"
      ],
      "metadata": {
        "colab": {
          "base_uri": "https://localhost:8080/"
        },
        "id": "oPdzEmu6ZQsr",
        "outputId": "c7910275-d8d9-4e39-f1ee-ddbdf7696fa4"
      },
      "execution_count": 26,
      "outputs": [
        {
          "output_type": "stream",
          "name": "stdout",
          "text": [
            "I am a Vehicle\n",
            "Mileage of Vehicle is  20\n",
            "Cost of Vehicle is  12000\n"
          ]
        }
      ]
    },
    {
      "cell_type": "code",
      "source": [
        "c1.show_car_details() #--------------------------> Invoking show_car_details() method from child class."
      ],
      "metadata": {
        "colab": {
          "base_uri": "https://localhost:8080/"
        },
        "id": "zK9i6KH5ZVHf",
        "outputId": "c99d53f9-347d-4a14-d5bb-fd74172ed7df"
      },
      "execution_count": 27,
      "outputs": [
        {
          "output_type": "stream",
          "name": "stdout",
          "text": [
            "I am a car\n",
            "Number of tyres are  4\n",
            "Value of horse power is  300\n"
          ]
        }
      ]
    },
    {
      "cell_type": "markdown",
      "source": [
        "# **Types of Inheritence**\n",
        "1. Single inheritence -> In this one class inherits the properties from one Super class.\n",
        "2. Multiple inheritence -> In this the child inherits from more than 1 parent class.\n",
        "3. Multi-level inheritence -> In multi-Inheritence, we have Parent, child, grand-child relationship.\n",
        "4. Hybrid inheritence"
      ],
      "metadata": {
        "id": "ujmsLGWPbM_X"
      }
    },
    {
      "cell_type": "code",
      "source": [
        "#Multiple Inheritence in Python\n",
        "class Parent1():  #----------------------------> Parent Class one\n",
        "  def assign_string_one(self, str1):\n",
        "    self.str1 = str1\n",
        "\n",
        "  def show_string_one(self):\n",
        "    return self.str1"
      ],
      "metadata": {
        "id": "LPVaKGvDb571"
      },
      "execution_count": 28,
      "outputs": []
    },
    {
      "cell_type": "code",
      "source": [
        "class Parent2():     #-------------------------> Parent class two\n",
        "  def assign_string_two(self,str2):\n",
        "    self.str2 = str2\n",
        "\n",
        "  def show_string_two(self):\n",
        "    return self.str2"
      ],
      "metadata": {
        "id": "FskxDhs9cVRZ"
      },
      "execution_count": 29,
      "outputs": []
    },
    {
      "cell_type": "code",
      "source": [
        "class Derived(Parent1, Parent2):  #------------------->Child Class\n",
        "  def assign_string_three(self, str3):\n",
        "    self.str3 = str3\n",
        "\n",
        "  def show_string_three(self):\n",
        "    return self.str3"
      ],
      "metadata": {
        "id": "gfcV42C2cqA_"
      },
      "execution_count": 34,
      "outputs": []
    },
    {
      "cell_type": "code",
      "source": [
        "# Instanting object of child class\n",
        "d1 = Derived()\n"
      ],
      "metadata": {
        "id": "1kaLxgCsdR81"
      },
      "execution_count": 35,
      "outputs": []
    },
    {
      "cell_type": "code",
      "source": [
        "d1.assign_string_one(\"one\")\n",
        "d1.assign_string_two(\"two\")\n",
        "d1.assign_string_three(\"three\")"
      ],
      "metadata": {
        "id": "XCEX_M3vdv_Y"
      },
      "execution_count": 36,
      "outputs": []
    },
    {
      "cell_type": "code",
      "source": [
        "d1.show_string_one() #-------------> Invoking methods"
      ],
      "metadata": {
        "colab": {
          "base_uri": "https://localhost:8080/",
          "height": 36
        },
        "id": "vuEMULGneCUl",
        "outputId": "dcaa99cc-ddeb-44de-e4e1-fa728cfbaa71"
      },
      "execution_count": 43,
      "outputs": [
        {
          "output_type": "execute_result",
          "data": {
            "text/plain": [
              "'one'"
            ],
            "application/vnd.google.colaboratory.intrinsic+json": {
              "type": "string"
            }
          },
          "metadata": {},
          "execution_count": 43
        }
      ]
    },
    {
      "cell_type": "code",
      "source": [
        "d1.show_string_two()"
      ],
      "metadata": {
        "colab": {
          "base_uri": "https://localhost:8080/",
          "height": 36
        },
        "id": "WuMoiGtFeFuO",
        "outputId": "eef7eb94-9d41-4f4b-c89a-cc9f6f1c893c"
      },
      "execution_count": 44,
      "outputs": [
        {
          "output_type": "execute_result",
          "data": {
            "text/plain": [
              "'two'"
            ],
            "application/vnd.google.colaboratory.intrinsic+json": {
              "type": "string"
            }
          },
          "metadata": {},
          "execution_count": 44
        }
      ]
    },
    {
      "cell_type": "code",
      "source": [
        "d1.show_string_three()"
      ],
      "metadata": {
        "colab": {
          "base_uri": "https://localhost:8080/",
          "height": 36
        },
        "id": "mq3BHDCCeIut",
        "outputId": "fd7e86b9-159f-4287-dacb-981547a363d6"
      },
      "execution_count": 45,
      "outputs": [
        {
          "output_type": "execute_result",
          "data": {
            "text/plain": [
              "'three'"
            ],
            "application/vnd.google.colaboratory.intrinsic+json": {
              "type": "string"
            }
          },
          "metadata": {},
          "execution_count": 45
        }
      ]
    },
    {
      "cell_type": "code",
      "source": [
        "# Multi-Level Inheritence in Python\n",
        "# Parent Class\n",
        "class Parent():\n",
        "  def assign_name(self, name):\n",
        "    self.name = name\n",
        "\n",
        "  def show_name(self):\n",
        "    return self.name"
      ],
      "metadata": {
        "id": "8fve97gDgGX3"
      },
      "execution_count": 46,
      "outputs": []
    },
    {
      "cell_type": "code",
      "source": [
        "# Child Class\n",
        "class Child(Parent):\n",
        "  def assign_age(self, age):\n",
        "    self.age = age\n",
        "  def show_age(self):\n",
        "    return self.age"
      ],
      "metadata": {
        "id": "VjRSdEj-gqcs"
      },
      "execution_count": 50,
      "outputs": []
    },
    {
      "cell_type": "code",
      "source": [
        "#Grand-child Class\n",
        "class GrandChild(Child):\n",
        "  def assign_gender(self, gender):\n",
        "    self.gender = gender\n",
        "\n",
        "  def show_gender(self):\n",
        "    return self.gender"
      ],
      "metadata": {
        "id": "FvhJRfAPhJ5m"
      },
      "execution_count": 57,
      "outputs": []
    },
    {
      "cell_type": "code",
      "source": [
        "# Instantiating object of GrandChild class\n",
        "g1 = GrandChild()"
      ],
      "metadata": {
        "id": "o_EnNZDIhn3m"
      },
      "execution_count": 63,
      "outputs": []
    },
    {
      "cell_type": "code",
      "source": [
        "g1.assign_name(\"Paapu\")\n",
        "g1.assign_age(31)\n",
        "g1.assign_gender(\"Male\")"
      ],
      "metadata": {
        "id": "O30D4pUDhwnR"
      },
      "execution_count": 64,
      "outputs": []
    },
    {
      "cell_type": "code",
      "source": [
        "# Invoking class methods\n",
        "g1.show_name()"
      ],
      "metadata": {
        "colab": {
          "base_uri": "https://localhost:8080/",
          "height": 36
        },
        "id": "uBFy0DBmh8_1",
        "outputId": "a1aaaea9-a1d0-43f3-d3ce-daae32be4d7b"
      },
      "execution_count": 60,
      "outputs": [
        {
          "output_type": "execute_result",
          "data": {
            "text/plain": [
              "'Paapu'"
            ],
            "application/vnd.google.colaboratory.intrinsic+json": {
              "type": "string"
            }
          },
          "metadata": {},
          "execution_count": 60
        }
      ]
    },
    {
      "cell_type": "code",
      "source": [
        "g1.show_age()"
      ],
      "metadata": {
        "colab": {
          "base_uri": "https://localhost:8080/"
        },
        "id": "M7IBKT5GiEAv",
        "outputId": "2fb2d805-50af-41ab-d9a1-2580632ca35a"
      },
      "execution_count": 61,
      "outputs": [
        {
          "output_type": "execute_result",
          "data": {
            "text/plain": [
              "31"
            ]
          },
          "metadata": {},
          "execution_count": 61
        }
      ]
    },
    {
      "cell_type": "code",
      "source": [
        "g1.show_gender()"
      ],
      "metadata": {
        "colab": {
          "base_uri": "https://localhost:8080/",
          "height": 36
        },
        "id": "CTMcgP-liJIe",
        "outputId": "c60ed313-4fd5-4658-9c6e-8dd0a761613d"
      },
      "execution_count": 65,
      "outputs": [
        {
          "output_type": "execute_result",
          "data": {
            "text/plain": [
              "'Male'"
            ],
            "application/vnd.google.colaboratory.intrinsic+json": {
              "type": "string"
            }
          },
          "metadata": {},
          "execution_count": 65
        }
      ]
    },
    {
      "cell_type": "markdown",
      "source": [
        "APPEND AND LEN FUNCTION\n",
        "# content = f.read()\n",
        "# print(content)\n",
        "\n",
        "read - \"r\"\n",
        "write - \"w\"\n",
        "f = open(\"demo.text\",\"r\")\n",
        "content = f.read()\n",
        "print(content)"
      ],
      "metadata": {
        "id": "8zUB73oglru1"
      }
    },
    {
      "cell_type": "code",
      "source": [
        "#append - a\n",
        "f = open(\"demo.txt\", \"a\")\n",
        "add_text = f.write(\"\\n This is append model\")\n",
        "print(add_text)\n",
        "f.close()"
      ],
      "metadata": {
        "colab": {
          "base_uri": "https://localhost:8080/"
        },
        "id": "Ckn5oUawmF73",
        "outputId": "0d0dcfca-df7c-4689-d45c-fd6170dc507d"
      },
      "execution_count": 74,
      "outputs": [
        {
          "output_type": "stream",
          "name": "stdout",
          "text": [
            "22\n"
          ]
        }
      ]
    },
    {
      "cell_type": "code",
      "source": [
        "# len Function\n",
        "f = open(\"demo.txt\",\"r\")\n",
        "data = f.read()\n",
        "total_count = len(data)\n",
        "print(total_count)\n",
        "f.close()"
      ],
      "metadata": {
        "colab": {
          "base_uri": "https://localhost:8080/"
        },
        "id": "N7pG1dE9pVL_",
        "outputId": "47746e36-8be5-4966-c9a9-d851043a813b"
      },
      "execution_count": 75,
      "outputs": [
        {
          "output_type": "stream",
          "name": "stdout",
          "text": [
            "40\n"
          ]
        }
      ]
    }
  ]
}