{
  "nbformat": 4,
  "nbformat_minor": 0,
  "metadata": {
    "colab": {
      "provenance": [],
      "authorship_tag": "ABX9TyNaXSxBbBAHSDok/viUXPrv",
      "include_colab_link": true
    },
    "kernelspec": {
      "name": "python3",
      "display_name": "Python 3"
    },
    "language_info": {
      "name": "python"
    }
  },
  "cells": [
    {
      "cell_type": "markdown",
      "metadata": {
        "id": "view-in-github",
        "colab_type": "text"
      },
      "source": [
        "<a href=\"https://colab.research.google.com/github/Sahanag15/Python/blob/main/Contional_Statements.ipynb\" target=\"_parent\"><img src=\"https://colab.research.google.com/assets/colab-badge.svg\" alt=\"Open In Colab\"/></a>"
      ]
    },
    {
      "cell_type": "markdown",
      "source": [
        "Conditional Statements ->\n",
        "1. if statement"
      ],
      "metadata": {
        "id": "ZI0LBh0dL3rP"
      }
    },
    {
      "cell_type": "code",
      "source": [
        "# 1. if statement\n",
        "a = 10\n",
        "b = 20"
      ],
      "metadata": {
        "id": "9podhdaWMOEx"
      },
      "execution_count": null,
      "outputs": []
    }
  ]
}