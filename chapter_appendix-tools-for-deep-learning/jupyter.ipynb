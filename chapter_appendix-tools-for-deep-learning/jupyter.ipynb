{
  "cells": [
    {
      "cell_type": "code",
      "source": [
        "employee_name = \"Sahana\""
      ],
      "metadata": {
        "id": "Ufbzrnx_gqvF"
      },
      "id": "Ufbzrnx_gqvF",
      "execution_count": 2,
      "outputs": []
    },
    {
      "cell_type": "code",
      "source": [
        "employee_name"
      ],
      "metadata": {
        "colab": {
          "base_uri": "https://localhost:8080/",
          "height": 35
        },
        "id": "O_iIvmN0gw5U",
        "outputId": "b4eea3f8-376f-461f-900e-a68ac0703083"
      },
      "id": "O_iIvmN0gw5U",
      "execution_count": 3,
      "outputs": [
        {
          "output_type": "execute_result",
          "data": {
            "text/plain": [
              "'Sahana'"
            ],
            "application/vnd.google.colaboratory.intrinsic+json": {
              "type": "string"
            }
          },
          "metadata": {},
          "execution_count": 3
        }
      ]
    },
    {
      "cell_type": "code",
      "source": [
        "employee_name=\"Sinchana\"\n",
        "employee_name"
      ],
      "metadata": {
        "colab": {
          "base_uri": "https://localhost:8080/",
          "height": 35
        },
        "id": "BYnR-fAphffN",
        "outputId": "272331ba-c7aa-40b5-d237-8763c8906e24"
      },
      "id": "BYnR-fAphffN",
      "execution_count": 4,
      "outputs": [
        {
          "output_type": "execute_result",
          "data": {
            "text/plain": [
              "'Sinchana'"
            ],
            "application/vnd.google.colaboratory.intrinsic+json": {
              "type": "string"
            }
          },
          "metadata": {},
          "execution_count": 4
        }
      ]
    },
    {
      "cell_type": "markdown",
      "source": [
        "this is how we can work with variables. this is the reason Python is a dynamically typed programming language. we don't have to initialize our variables with the specific datatype. whatever the datatype the value will be the datatype will associated.\n",
        "\n",
        "Datatypes in python\n",
        "int\n",
        "float\n",
        "Bollean\n",
        "String"
      ],
      "metadata": {
        "id": "1l5jvxrsh3Ns"
      },
      "id": "1l5jvxrsh3Ns"
    },
    {
      "cell_type": "code",
      "source": [
        "a1 = 100\n",
        "a1"
      ],
      "metadata": {
        "colab": {
          "base_uri": "https://localhost:8080/"
        },
        "id": "PZqPaFJ-jfim",
        "outputId": "19511697-0a87-4e66-cd53-ae3c646bad81"
      },
      "id": "PZqPaFJ-jfim",
      "execution_count": 5,
      "outputs": [
        {
          "output_type": "execute_result",
          "data": {
            "text/plain": [
              "100"
            ]
          },
          "metadata": {},
          "execution_count": 5
        }
      ]
    },
    {
      "cell_type": "code",
      "source": [
        "type(a1)"
      ],
      "metadata": {
        "colab": {
          "base_uri": "https://localhost:8080/"
        },
        "id": "_pKg-NErjjdW",
        "outputId": "6ee2dd05-9566-48bc-d896-2f4dcb8bea7f"
      },
      "id": "_pKg-NErjjdW",
      "execution_count": 6,
      "outputs": [
        {
          "output_type": "execute_result",
          "data": {
            "text/plain": [
              "int"
            ]
          },
          "metadata": {},
          "execution_count": 6
        }
      ]
    },
    {
      "cell_type": "code",
      "source": [
        "a1=3.14\n",
        "a1"
      ],
      "metadata": {
        "colab": {
          "base_uri": "https://localhost:8080/"
        },
        "id": "bfXvo0_djnfE",
        "outputId": "d48245d3-caa9-43c2-afb1-9a579a756028"
      },
      "id": "bfXvo0_djnfE",
      "execution_count": 7,
      "outputs": [
        {
          "output_type": "execute_result",
          "data": {
            "text/plain": [
              "3.14"
            ]
          },
          "metadata": {},
          "execution_count": 7
        }
      ]
    },
    {
      "cell_type": "code",
      "source": [
        "type(a1)"
      ],
      "metadata": {
        "colab": {
          "base_uri": "https://localhost:8080/"
        },
        "id": "gNAaSNprjsoV",
        "outputId": "11aba305-4c4b-4982-a5de-9c35fa4189bb"
      },
      "id": "gNAaSNprjsoV",
      "execution_count": 8,
      "outputs": [
        {
          "output_type": "execute_result",
          "data": {
            "text/plain": [
              "float"
            ]
          },
          "metadata": {},
          "execution_count": 8
        }
      ]
    },
    {
      "cell_type": "code",
      "source": [
        "a1 = True\n",
        "type(a1)"
      ],
      "metadata": {
        "colab": {
          "base_uri": "https://localhost:8080/"
        },
        "id": "qESwJaxzjv58",
        "outputId": "7d1be3d3-870e-4781-a3d0-6adc5f35522f"
      },
      "id": "qESwJaxzjv58",
      "execution_count": 9,
      "outputs": [
        {
          "output_type": "execute_result",
          "data": {
            "text/plain": [
              "bool"
            ]
          },
          "metadata": {},
          "execution_count": 9
        }
      ]
    },
    {
      "cell_type": "code",
      "source": [
        "a1 = \"Sahana\"\n",
        "type(a1)"
      ],
      "metadata": {
        "colab": {
          "base_uri": "https://localhost:8080/"
        },
        "id": "82EU1MDWj3D0",
        "outputId": "ca1e07fd-c7a6-48fb-afd7-c123c9cf5d25"
      },
      "id": "82EU1MDWj3D0",
      "execution_count": 14,
      "outputs": [
        {
          "output_type": "execute_result",
          "data": {
            "text/plain": [
              "str"
            ]
          },
          "metadata": {},
          "execution_count": 14
        }
      ]
    },
    {
      "cell_type": "code",
      "source": [
        "a1"
      ],
      "metadata": {
        "colab": {
          "base_uri": "https://localhost:8080/",
          "height": 35
        },
        "id": "lC9YcZGZkHjU",
        "outputId": "9c747942-9b1b-49fa-ccaf-0bb0a0064bf5"
      },
      "id": "lC9YcZGZkHjU",
      "execution_count": 15,
      "outputs": [
        {
          "output_type": "execute_result",
          "data": {
            "text/plain": [
              "'Sahana'"
            ],
            "application/vnd.google.colaboratory.intrinsic+json": {
              "type": "string"
            }
          },
          "metadata": {},
          "execution_count": 15
        }
      ]
    },
    {
      "cell_type": "code",
      "source": [
        "a1 = 2+5j\n",
        "a1"
      ],
      "metadata": {
        "colab": {
          "base_uri": "https://localhost:8080/"
        },
        "id": "3FLdWgSLkR60",
        "outputId": "591496d4-f8df-46f9-8e93-efeda58fb0e1"
      },
      "id": "3FLdWgSLkR60",
      "execution_count": 16,
      "outputs": [
        {
          "output_type": "execute_result",
          "data": {
            "text/plain": [
              "(2+5j)"
            ]
          },
          "metadata": {},
          "execution_count": 16
        }
      ]
    },
    {
      "cell_type": "code",
      "source": [
        "type(a1)"
      ],
      "metadata": {
        "colab": {
          "base_uri": "https://localhost:8080/"
        },
        "id": "eNSnD5G9kX4M",
        "outputId": "4f417198-b49a-4a1a-8073-5c4120d3cd9c"
      },
      "id": "eNSnD5G9kX4M",
      "execution_count": 17,
      "outputs": [
        {
          "output_type": "execute_result",
          "data": {
            "text/plain": [
              "complex"
            ]
          },
          "metadata": {},
          "execution_count": 17
        }
      ]
    }
  ],
  "metadata": {
    "kernelspec": {
      "display_name": "Python 3",
      "name": "python3"
    },
    "language_info": {
      "name": "python"
    },
    "required_libs": [],
    "colab": {
      "provenance": []
    }
  },
  "nbformat": 4,
  "nbformat_minor": 5
}