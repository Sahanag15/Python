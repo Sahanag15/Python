{
  "nbformat": 4,
  "nbformat_minor": 0,
  "metadata": {
    "colab": {
      "provenance": [],
      "authorship_tag": "ABX9TyPQMUYpCYe54PxPIj34evMk",
      "include_colab_link": true
    },
    "kernelspec": {
      "name": "python3",
      "display_name": "Python 3"
    },
    "language_info": {
      "name": "python"
    }
  },
  "cells": [
    {
      "cell_type": "markdown",
      "metadata": {
        "id": "view-in-github",
        "colab_type": "text"
      },
      "source": [
        "<a href=\"https://colab.research.google.com/github/Sahanag15/Python/blob/main/Functions_in_Python.ipynb\" target=\"_parent\"><img src=\"https://colab.research.google.com/assets/colab-badge.svg\" alt=\"Open In Colab\"/></a>"
      ]
    },
    {
      "cell_type": "markdown",
      "source": [
        "**Functions** -> is a block of code which performs a specific task.\n",
        "Basically Python is having 2 types of Functions\n",
        "1. Normal Function\n",
        "**Syntax **\n",
        "        def function_name:\n",
        "                    Execute Statements\n",
        "2. Lambda Function\n",
        "**Syntax**\n",
        "        lambda arguments:\n",
        "                    expression"
      ],
      "metadata": {
        "id": "1uJc_eDyRhOx"
      }
    },
    {
      "cell_type": "code",
      "source": [
        "def hello():\n",
        "  print(\"hello world\")\n",
        "hello()"
      ],
      "metadata": {
        "colab": {
          "base_uri": "https://localhost:8080/"
        },
        "id": "kONh9MHATO30",
        "outputId": "54ac829f-ef99-4d9d-c0af-2345cd0519a0"
      },
      "execution_count": 3,
      "outputs": [
        {
          "output_type": "stream",
          "name": "stdout",
          "text": [
            "hello world\n"
          ]
        }
      ]
    },
    {
      "cell_type": "code",
      "source": [
        "#Function with parameters"
      ],
      "metadata": {
        "id": "Y44AG7MTTgXy"
      },
      "execution_count": 4,
      "outputs": []
    },
    {
      "cell_type": "code",
      "source": [
        "def add10(x):\n",
        "  return x+10"
      ],
      "metadata": {
        "id": "ebXL6BtwTmB_"
      },
      "execution_count": 7,
      "outputs": []
    },
    {
      "cell_type": "code",
      "source": [
        "add10(5)"
      ],
      "metadata": {
        "colab": {
          "base_uri": "https://localhost:8080/"
        },
        "id": "HZxUXGpaT-jc",
        "outputId": "a3250144-f093-430f-80c4-d1f0e7f4e1c5"
      },
      "execution_count": 8,
      "outputs": [
        {
          "output_type": "execute_result",
          "data": {
            "text/plain": [
              "15"
            ]
          },
          "metadata": {},
          "execution_count": 8
        }
      ]
    },
    {
      "cell_type": "code",
      "source": [
        "def even_odd(x):\n",
        "  if x%2==0:\n",
        "    print(x,\" is even\")\n",
        "  else:\n",
        "    print(x, \" is odd\")\n",
        "even_odd(5)"
      ],
      "metadata": {
        "colab": {
          "base_uri": "https://localhost:8080/"
        },
        "id": "lvM8qtDIUDhY",
        "outputId": "8e365c4f-980b-4826-a637-be3f5a0b6d83"
      },
      "execution_count": 9,
      "outputs": [
        {
          "output_type": "stream",
          "name": "stdout",
          "text": [
            "5  is odd\n"
          ]
        }
      ]
    },
    {
      "cell_type": "code",
      "source": [
        "#Lambda Functions"
      ],
      "metadata": {
        "id": "aumcZPM5UZU4"
      },
      "execution_count": 10,
      "outputs": []
    },
    {
      "cell_type": "code",
      "source": [
        "g = lambda x: x*x*x\n",
        "print(g(7))"
      ],
      "metadata": {
        "colab": {
          "base_uri": "https://localhost:8080/"
        },
        "id": "yutSo6yXUeyX",
        "outputId": "d5cf7d24-932d-436a-ba38-e5e56fbb86eb"
      },
      "execution_count": 12,
      "outputs": [
        {
          "output_type": "stream",
          "name": "stdout",
          "text": [
            "343\n"
          ]
        }
      ]
    },
    {
      "cell_type": "code",
      "source": [
        "#lambda function with filter\n",
        "# filter() -> in this function it takes 2 parameters one is lambda function and list itself.\n",
        "li = [5,7,22,97,54,62,77,23,73,61]\n",
        "filter(lambda x: (x%2 != 0), li)\n",
        "#print(final_list)"
      ],
      "metadata": {
        "colab": {
          "base_uri": "https://localhost:8080/"
        },
        "id": "PcdQkvb3Wdhs",
        "outputId": "fef48a7f-650c-4d78-fb9e-ed174d9bd05d"
      },
      "execution_count": 17,
      "outputs": [
        {
          "output_type": "execute_result",
          "data": {
            "text/plain": [
              "<filter at 0x7997855b50c0>"
            ]
          },
          "metadata": {},
          "execution_count": 17
        }
      ]
    },
    {
      "cell_type": "code",
      "source": [
        "li = [5,7,22,97,54,62,77,23,73,61]\n",
        "print(filter(lambda x: (x%2 != 0), li))"
      ],
      "metadata": {
        "colab": {
          "base_uri": "https://localhost:8080/"
        },
        "id": "w5wqeZY5X2Ve",
        "outputId": "db471752-cfbe-442b-9590-5a3339bd0793"
      },
      "execution_count": 18,
      "outputs": [
        {
          "output_type": "stream",
          "name": "stdout",
          "text": [
            "<filter object at 0x7997848f37f0>\n"
          ]
        }
      ]
    },
    {
      "cell_type": "code",
      "source": [
        "li = [5,7,22,97,54,62,77,23,73,61]\n",
        "final_list= list(filter(lambda x: (x%2 !=0), li))\n",
        "print(final_list)"
      ],
      "metadata": {
        "colab": {
          "base_uri": "https://localhost:8080/"
        },
        "id": "2ALM2fOnYhzS",
        "outputId": "7be2c268-3a96-4ca8-ea77-34d5470e74ee"
      },
      "execution_count": 19,
      "outputs": [
        {
          "output_type": "stream",
          "name": "stdout",
          "text": [
            "[5, 7, 97, 77, 23, 73, 61]\n"
          ]
        }
      ]
    },
    {
      "cell_type": "code",
      "source": [
        "#lambda function with map\n",
        "li = [5,7,22,97,54,62,77,23,73,61]\n",
        "# MAP Function in Lambda Function\n",
        "map(lambda x: x*2, li)\n"
      ],
      "metadata": {
        "colab": {
          "base_uri": "https://localhost:8080/"
        },
        "id": "w4HDXS3RVbQv",
        "outputId": "170a952f-ed33-4ee3-a7c8-0f86c0657416"
      },
      "execution_count": 20,
      "outputs": [
        {
          "output_type": "execute_result",
          "data": {
            "text/plain": [
              "<map at 0x7997841e89d0>"
            ]
          },
          "metadata": {},
          "execution_count": 20
        }
      ]
    },
    {
      "cell_type": "code",
      "source": [
        "li = [5,7,22,97,54,62,77,23,73,61]\n",
        "print(map(lambda x: x*2, li))"
      ],
      "metadata": {
        "colab": {
          "base_uri": "https://localhost:8080/"
        },
        "id": "kIkD_EwBagrn",
        "outputId": "45bb6dcb-c0ae-4c4b-cf35-626a25b99b30"
      },
      "execution_count": 21,
      "outputs": [
        {
          "output_type": "stream",
          "name": "stdout",
          "text": [
            "<map object at 0x799784272380>\n"
          ]
        }
      ]
    },
    {
      "cell_type": "code",
      "source": [
        "li = [5,7,22,97,54,62,77,23,73,61]\n",
        "final_list = list(map(lambda x: x*2, li))\n",
        "print(final_list)"
      ],
      "metadata": {
        "colab": {
          "base_uri": "https://localhost:8080/"
        },
        "id": "pVWIqLMganRV",
        "outputId": "aa9ea882-51a1-4748-837e-bc47ae02ec26"
      },
      "execution_count": 22,
      "outputs": [
        {
          "output_type": "stream",
          "name": "stdout",
          "text": [
            "[10, 14, 44, 194, 108, 124, 154, 46, 146, 122]\n"
          ]
        }
      ]
    },
    {
      "cell_type": "code",
      "source": [
        "#lambda function with reduce\n",
        "# reduce function -> It is the part of the functools library. 1st you would have to reduce this\n",
        "# Reduce()-> It gives you a reduced list or a reduced result from a list.\n",
        "from functools import reduce\n",
        "li = [5,8,10,20,50,100]\n",
        "sum = reduce((lambda x,y: x+y), li)\n",
        "print(sum)"
      ],
      "metadata": {
        "colab": {
          "base_uri": "https://localhost:8080/"
        },
        "id": "YDVpUoGLavqh",
        "outputId": "7d2ee7bd-0f3b-48a7-bbdd-7bf0523b3ad9"
      },
      "execution_count": 23,
      "outputs": [
        {
          "output_type": "stream",
          "name": "stdout",
          "text": [
            "193\n"
          ]
        }
      ]
    }
  ]
}