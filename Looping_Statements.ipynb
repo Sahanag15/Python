{
  "nbformat": 4,
  "nbformat_minor": 0,
  "metadata": {
    "colab": {
      "provenance": [],
      "authorship_tag": "ABX9TyMgIZ9mApDjEj3pwDfJjfMh",
      "include_colab_link": true
    },
    "kernelspec": {
      "name": "python3",
      "display_name": "Python 3"
    },
    "language_info": {
      "name": "python"
    }
  },
  "cells": [
    {
      "cell_type": "markdown",
      "metadata": {
        "id": "view-in-github",
        "colab_type": "text"
      },
      "source": [
        "<a href=\"https://colab.research.google.com/github/Sahanag15/Python/blob/main/Looping_Statements.ipynb\" target=\"_parent\"><img src=\"https://colab.research.google.com/assets/colab-badge.svg\" alt=\"Open In Colab\"/></a>"
      ]
    },
    {
      "cell_type": "markdown",
      "source": [
        "**Looping Statments** -> Looping statements are used to repeat a task multiple times.\n",
        "Types of Looping Statments\n",
        "1. While Loop\n",
        "2. Do-While Loop\n",
        "3. For Loop\n"
      ],
      "metadata": {
        "id": "v8iDU9VpJ0Vi"
      }
    },
    {
      "cell_type": "markdown",
      "source": [
        "While Loop -> first we will enter the loop and then check the condition if the condition is true it will execute body of the loop or if the loop is false it will exit from ythe While loop\n",
        "**Syntax**\n",
        "  While condition:\n",
        "    Execute Statements"
      ],
      "metadata": {
        "id": "oIFxQ93uLTZQ"
      }
    },
    {
      "cell_type": "code",
      "source": [
        "i = 1\n",
        "while i<=10:\n",
        "  print(i)\n",
        "  i=i+1"
      ],
      "metadata": {
        "colab": {
          "base_uri": "https://localhost:8080/"
        },
        "id": "B1iustfiL5rI",
        "outputId": "66d32b31-4586-4544-e925-d433a2ae6fba"
      },
      "execution_count": null,
      "outputs": [
        {
          "output_type": "stream",
          "name": "stdout",
          "text": [
            "1\n",
            "2\n",
            "3\n",
            "4\n",
            "5\n",
            "6\n",
            "7\n",
            "8\n",
            "9\n",
            "10\n"
          ]
        }
      ]
    },
    {
      "cell_type": "code",
      "source": [
        "# Multiple of 2\n",
        "i = 1\n",
        "n = 2\n",
        "while i<=10:\n",
        "  print(n,\"*\",i ,\"=\", n*i)\n",
        "  i=i+1"
      ],
      "metadata": {
        "colab": {
          "base_uri": "https://localhost:8080/"
        },
        "id": "IZFn9OzyVW_a",
        "outputId": "779af71d-122f-4847-a8c1-1f91ed548b74"
      },
      "execution_count": null,
      "outputs": [
        {
          "output_type": "stream",
          "name": "stdout",
          "text": [
            "2 * 1 = 2\n",
            "2 * 2 = 4\n",
            "2 * 3 = 6\n",
            "2 * 4 = 8\n",
            "2 * 5 = 10\n",
            "2 * 6 = 12\n",
            "2 * 7 = 14\n",
            "2 * 8 = 16\n",
            "2 * 9 = 18\n",
            "2 * 10 = 20\n"
          ]
        }
      ]
    },
    {
      "cell_type": "code",
      "source": [
        "#While loop with List\n",
        "l1 = [1,2,3,4,5]\n",
        "i = 0\n",
        "while i<len(l1):\n",
        "  l1[i] = l1[i]+100\n",
        "  i=i+1"
      ],
      "metadata": {
        "id": "DGAu8aRFWEXh"
      },
      "execution_count": null,
      "outputs": []
    },
    {
      "cell_type": "code",
      "source": [
        "l1"
      ],
      "metadata": {
        "colab": {
          "base_uri": "https://localhost:8080/"
        },
        "id": "iGig_xk0WlJs",
        "outputId": "158d31ee-5c8a-4276-a839-839075db0f76"
      },
      "execution_count": null,
      "outputs": [
        {
          "output_type": "execute_result",
          "data": {
            "text/plain": [
              "[101, 102, 103, 104, 105]"
            ]
          },
          "metadata": {},
          "execution_count": 6
        }
      ]
    },
    {
      "cell_type": "markdown",
      "source": [
        "2. **For Loop **-> This is used to iterate over a sequence(tuple, list, dictionary...)\n",
        "**Syntax**\n",
        "         for val in sequence:\n",
        "                Body of for"
      ],
      "metadata": {
        "id": "UW351o6ZWo9e"
      }
    },
    {
      "cell_type": "code",
      "source": [
        "#for loop with List\n",
        "l1 = [\"apple\", \"banana\", \"grapes\"]\n",
        "for i in l1:\n",
        "  print(i)"
      ],
      "metadata": {
        "colab": {
          "base_uri": "https://localhost:8080/"
        },
        "id": "eiw-cy0CXOtm",
        "outputId": "8fececf4-8f63-4a44-a642-2e81e3cbf4dc"
      },
      "execution_count": null,
      "outputs": [
        {
          "output_type": "stream",
          "name": "stdout",
          "text": [
            "apple\n",
            "banana\n",
            "grapes\n"
          ]
        }
      ]
    },
    {
      "cell_type": "code",
      "source": [
        "l1 = [\"orange\", \"blue\", \"green\"]\n",
        "l2 = [\"book\", \"chair\",\"phone\"]\n",
        "for i in l1:\n",
        "  for j in l2:\n",
        "    print(i,j)"
      ],
      "metadata": {
        "colab": {
          "base_uri": "https://localhost:8080/"
        },
        "id": "NGT9YKo3XfGg",
        "outputId": "4ec2f9db-0be4-455c-b155-8ebe015902b4"
      },
      "execution_count": null,
      "outputs": [
        {
          "output_type": "stream",
          "name": "stdout",
          "text": [
            "orange book\n",
            "orange chair\n",
            "orange phone\n",
            "blue book\n",
            "blue chair\n",
            "blue phone\n",
            "green book\n",
            "green chair\n",
            "green phone\n"
          ]
        }
      ]
    }
  ]
}